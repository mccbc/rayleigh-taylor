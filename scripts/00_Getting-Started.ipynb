{
 "cells": [
  {
   "cell_type": "markdown",
   "metadata": {},
   "source": [
    "# Getting started - Git, Command Line and Jupyter Notebook"
   ]
  },
  {
   "cell_type": "markdown",
   "metadata": {},
   "source": [
    "This guide will walk you through installing git, navigating through the command line, and opening up Jupyter Notebook."
   ]
  },
  {
   "cell_type": "markdown",
   "metadata": {},
   "source": [
    "# Installing Git on Windows\n",
    "\n",
    "### Introduction\n",
    "`git` is an incredibly powerful *version tracker*. When used correctly, it tracks the changes of the files you create and code you write, enabling you to work on independently on multiple versions of the same file with several collaborators.\n",
    "\n",
    "`GitHub` is an online platform for storing your code bases, or *repositories*. Others can *clone* repositories to simply use your code, or they may create *forks* of your repository make their own changes. Forks can also be *merged* with the main branch of the code using a *pull request*, but this is more advanced than we'll need to get for now.\n",
    "\n",
    "Another benefit of installing `git` is that on Windows it comes with its own terminal. Powershell is good in a pinch, but we'd really prefer to use a proper bash terminal, so this is a great added bonus."
   ]
  },
  {
   "cell_type": "markdown",
   "metadata": {},
   "source": [
    "### Procedure\n",
    "\n",
    "1. Follow the instructions found here: https://github.com/git-guides/install-git. Download the installer and go through the steps. Be sure the install path is something like `C:\\Program Files\\Git`.\n",
    "\n",
    "\n",
    "2. During installation when you select the components to install, be sure that \"Windows Explorer integration\" is checked. The sub-option \"Git Bash Here\" is especially important. This should be selected by default. None of the options should need to be changed.\n",
    "\n",
    "\n",
    "3. The default editor doesn't matter too much since we'll be using Jupyter Notebooks for all our coding. For convenience, you may switch it to \"Use Notepad as Git's default editor\" since Notepad is a simple and intuitive text editor that comes prepackaged with Windows. There are undoubtedly better options to use, but we won't concern ourselves with installing those right now.\n",
    "\n",
    "\n",
    "4. Proceed through the installer leaving all remaining options as their default.\n",
    "\n",
    "\n",
    "5. At the end, select \"Launch Git Bash\" and press the Finish button. A new terminal window should open that looks slightly different than Powershell.\n",
    "    - You can launch this terminal from any file explorer in Windows by right clicking and selecting \"Git Bash Here\" from the drop-down menu. A bash terminal will open with the current working directory set to the location in the file explorer from which you started it.\n",
    "\n",
    "\n",
    "6. Type `git` into the terminal and press enter. You should see some commands with descriptions of what they do. We'll save those for later --- for now, this is just checking to make sure everything installed properly!"
   ]
  },
  {
   "cell_type": "markdown",
   "metadata": {},
   "source": [
    "## Navigating through your computer\n",
    "\n",
    "3. Type ``help`` and press <kbd>Enter</kbd>. You can also type ``help [something]`` to see a help page on a specific topic.\n",
    "    - **Tip**: In this guide, any time you see ``text like this``, you should type it into the terminal and press <kbd>Enter</kbd>. If you see something surrounded by brackets ``like [this]``, you should replace ``[this]`` with something else. Don't type the brackets into the terminal.\n",
    "    - It is common practice in coding tutorials to represent the command line with a ``$`` for `bash` (the terminal language) or a ``>`` symbol for Python. If you see a line of code with either those symbols in front, it just indicates that you should type what follows into the appropriate command line, without typing the symbol itself.\n",
    "    - **Example**:\n",
    "    \n",
    "    ``$ ipython`` - Type ``ipython`` into a bash terminal, which will start a live Python session.\n",
    "    \n",
    "    ``> print(\"Hello world!\")`` - Type this code into a live Python terminal.\n",
    "    \n",
    "    <kbd>Ctrl</kbd>+<kbd>d</kbd> - Press Control and the letter c on your keyboard to kill the Python session. Press <kbd>Enter</kdb> to confirm.\n",
    "    \n",
    " \n",
    "4. You should be able to see your \"current working directory\" in front of the cursor in your terminal. List the contents of the current directory with\n",
    "\n",
    "    `$ ls`\n",
    "    \n",
    "    and check the full current working directory with\n",
    "    \n",
    "    `$ pwd`\n",
    "    \n",
    " \n",
    "5. Navigate to your Documents directory with\n",
    "\n",
    "    ``$ cd ./Documents/``\n",
    "    \n",
    "    - **TIP**: After typing the first few letters of a directory or file name, you can auto-complete the rest by pressing <kbd>Tab</kbd>. If there are multiple options that start with the letters you've typed so far, pressing <kbd>Tab</kbd> again will show them."
   ]
  },
  {
   "cell_type": "markdown",
   "metadata": {},
   "source": [
    "### Cloning a repository\n",
    "\n",
    "1. In a `bash` terminal, use `cd` and `ls` to navigate to a folder where you want to store your project. Remember that you can double check the path using `pwd`. \n",
    "    - `/c/Users/[your username]/Documents` is a good option.\n",
    "    \n",
    "    \n",
    "2. Clone the repository for your project with\n",
    "\n",
    "    ``$ git clone https://github.com/mccbc/rayleigh-taylor.git``\n",
    "    \n",
    "    You can find the link by going to the GitHub page for the project and clicking on the big green \"Code\" button at the top right. Select the \"HTTPS\" tab at the top and copy the link.\n",
    "    \n",
    "    - **TIP**: For Windows, you will have to right click > Paste in the terminal, since <kbd>Ctrl</kbd>+<kbd>v</kbd> does not work in command line interfaces.\n",
    "\n",
    "\n",
    "3. After the repository is finished cloning, all the files that are tracked in the repository will have downloaded to a new directory sharing the name of the repository. You can now `cd` into it like any other directory and run the files it contains."
   ]
  },
  {
   "cell_type": "markdown",
   "metadata": {},
   "source": [
    "## Starting Jupyter Notebook\n",
    "\n",
    "1. In a bash terminal, navigate to your project directory with `cd`. Once you get there, type\n",
    "\n",
    "    `$ jupyter notebook`\n",
    "\n",
    "    to start a notebook session. A browser should open up showing all the files and folders in your project directory. Click on a `.ipynb` file to open it up, and press <kbd>Shift</kbd>+<kbd>Enter</kbd> to run each cell. You can select a cell by left-clicking on it."
   ]
  }
 ],
 "metadata": {
  "kernelspec": {
   "display_name": "Python 3 (ipykernel)",
   "language": "python",
   "name": "python3"
  },
  "language_info": {
   "codemirror_mode": {
    "name": "ipython",
    "version": 3
   },
   "file_extension": ".py",
   "mimetype": "text/x-python",
   "name": "python",
   "nbconvert_exporter": "python",
   "pygments_lexer": "ipython3",
   "version": "3.9.13"
  }
 },
 "nbformat": 4,
 "nbformat_minor": 4
}
